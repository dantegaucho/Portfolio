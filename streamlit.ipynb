{
 "cells": [
  {
   "cell_type": "markdown",
   "id": "0b72b7ec",
   "metadata": {},
   "source": [
    "This is my profile photo ![photo](./image/profile_photo.jpg)"
   ]
  }
 ],
 "metadata": {
  "kernelspec": {
   "display_name": "machine_env",
   "language": "python",
   "name": "python3"
  },
  "language_info": {
   "name": "python",
   "version": "3.12.3"
  }
 },
 "nbformat": 4,
 "nbformat_minor": 5
}
